{
 "cells": [
  {
   "cell_type": "code",
   "execution_count": 28,
   "metadata": {},
   "outputs": [],
   "source": [
    "#Gingoyon, Arvic Micah B. BSCS - 3, practice training CNN model\n",
    "import keras\n",
    "from keras.models import Sequential\n",
    "from keras.layers.core import Dense, Dropout, Activation, Flatten\n",
    "from keras.layers.convolutional import Convolution2D, MaxPooling2D\n",
    "from sklearn.model_selection import train_test_split\n",
    "import pandas as pd\n",
    "import numpy as np\n",
    "\n",
    "data = pd.read_csv('mnist_train.csv')\n",
    "data.head()\n",
    "data.iloc[3,1:].values.reshape(28,28).astype('uint8')\n",
    "\n",
    "df_x = data.iloc[:,1:].values.reshape(len(data),28,28,1)\n",
    "\n",
    "y = data.iloc[:,0].values\n",
    "\n",
    "df_y = keras.utils.to_categorical(y,num_classes=10)\n",
    "\n",
    "df_x = np.array(df_x)\n",
    "df_y = np.array(df_y)\n",
    "\n",
    "#test train splitting\n",
    "x_train, x_test, y_train, y_test = train_test_split(df_x,df_y,test_size=0.2,random_state=4)\n",
    "\n",
    "model=Sequential()\n",
    "model.add(Convolution2D(32,3,data_format='channels_last',activation='relu',input_shape=(28,28,1)))\n",
    "model.add(MaxPooling2D(pool_size=(2,2)))\n",
    "model.add(Flatten())\n",
    "model.add(Dense(100))\n",
    "model.add(Dropout(0.5))\n",
    "model.add(Dense(10))\n",
    "model.add(Activation('softmax'))\n",
    "model.compile(loss='categorical_crossentropy',optimizer='adadelta',metrics = ['accuracy'])\n"
   ]
  },
  {
   "cell_type": "code",
   "execution_count": 44,
   "metadata": {},
   "outputs": [
    {
     "name": "stdout",
     "output_type": "stream",
     "text": [
      "1500/1500 [==============================] - 49s 33ms/step - loss: 8.4769 - accuracy: 0.6924 - val_loss: 3.1178 - val_accuracy: 0.8444\n"
     ]
    },
    {
     "data": {
      "text/plain": [
       "<keras.callbacks.History at 0x23130ffa1f0>"
      ]
     },
     "execution_count": 44,
     "metadata": {},
     "output_type": "execute_result"
    }
   ],
   "source": [
    "model.fit(x_train,y_train,validation_data=(x_test,y_test))"
   ]
  },
  {
   "cell_type": "code",
   "execution_count": 42,
   "metadata": {},
   "outputs": [
    {
     "name": "stdout",
     "output_type": "stream",
     "text": [
      "375/375 [==============================] - 3s 8ms/step\n"
     ]
    },
    {
     "data": {
      "text/plain": [
       "array([[2.6421685e-29, 2.0721860e-36, 1.0000000e+00, ..., 9.9606863e-28,\n",
       "        3.8900593e-24, 4.5195625e-30],\n",
       "       [0.0000000e+00, 0.0000000e+00, 0.0000000e+00, ..., 1.0000000e+00,\n",
       "        2.1112220e-26, 1.0305828e-23],\n",
       "       [0.0000000e+00, 0.0000000e+00, 0.0000000e+00, ..., 0.0000000e+00,\n",
       "        0.0000000e+00, 0.0000000e+00],\n",
       "       ...,\n",
       "       [1.4332012e-32, 1.9156862e-24, 2.7842724e-13, ..., 4.6310566e-32,\n",
       "        1.6546698e-27, 2.0518986e-12],\n",
       "       [2.0529718e-29, 0.0000000e+00, 7.2883336e-37, ..., 2.7430628e-15,\n",
       "        4.1156339e-34, 5.0713063e-33],\n",
       "       [0.0000000e+00, 2.7383317e-32, 9.9981970e-01, ..., 0.0000000e+00,\n",
       "        0.0000000e+00, 0.0000000e+00]], dtype=float32)"
      ]
     },
     "execution_count": 42,
     "metadata": {},
     "output_type": "execute_result"
    }
   ],
   "source": [
    "model.predict(x_test)"
   ]
  },
  {
   "cell_type": "code",
   "execution_count": 45,
   "metadata": {},
   "outputs": [
    {
     "name": "stdout",
     "output_type": "stream",
     "text": [
      "375/375 [==============================] - 3s 7ms/step - loss: 3.1178 - accuracy: 0.8444\n"
     ]
    },
    {
     "data": {
      "text/plain": [
       "[3.11780047416687, 0.8444166779518127]"
      ]
     },
     "execution_count": 45,
     "metadata": {},
     "output_type": "execute_result"
    }
   ],
   "source": [
    "model.evaluate(x_test,y_test)"
   ]
  }
 ],
 "metadata": {
  "kernelspec": {
   "display_name": "Python 3.9.13 64-bit (microsoft store)",
   "language": "python",
   "name": "python3"
  },
  "language_info": {
   "codemirror_mode": {
    "name": "ipython",
    "version": 3
   },
   "file_extension": ".py",
   "mimetype": "text/x-python",
   "name": "python",
   "nbconvert_exporter": "python",
   "pygments_lexer": "ipython3",
   "version": "3.9.13"
  },
  "orig_nbformat": 4,
  "vscode": {
   "interpreter": {
    "hash": "83277f8a0d9f98d32463e117f7dfe7a9d3f5b2edd2a5ed0da9f524fd7ce89c0c"
   }
  }
 },
 "nbformat": 4,
 "nbformat_minor": 2
}
